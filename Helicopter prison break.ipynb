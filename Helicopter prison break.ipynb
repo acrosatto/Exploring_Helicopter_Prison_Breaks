{
 "cells": [
  {
   "cell_type": "markdown",
   "metadata": {},
   "source": [
    "# Exploring Helicopter Prison Breaks"
   ]
  },
  {
   "cell_type": "markdown",
   "metadata": {},
   "source": [
    "## Table of Contents\n",
    "\n",
    "- Introduction: The Great Escape\n",
    "- Data Collection and Preparation\n",
    "  - 1. Data Collection, Challenges and Limitations\n",
    "  - 2. Preparing Data for Analysis: Python Implementation\n",
    "    - 2.1 Python Libraries\n",
    "    - 2.2 Extract Data and convert it into Pandas DataFrame\n",
    "    - 2.3 Removing Redundant Columns\n",
    "- Analyzing Helicopter Escape Attempts\n",
    "  - 3. Examining Helicopter Escape Attempts by Year\n",
    "    - 3.1 Extracting Year from Data\n",
    "    - 3.2 Frequency of escapes\n",
    "    - 3.3 Visualizing Attempts by Year\n",
    "    - 3.4 Observations on the Data\n",
    "  - 4. Examining Helicopter Escape Attempts by Country\n",
    "    - 4.1 Top countries for prison escapes\n",
    "    - 4.2 Visualizing Attempts by Country\n",
    "    - 4.3 Around the World\n",
    "  - 5. The Audacity of Inmates\n",
    "    - 5.1 The Escape Artists\n",
    "    - 5.2 The Persistent Escapers\n",
    "    - 5.3 The Extraordinary Feats of Pascal Payet, Michel Vaujour, and Vassilis Paleokostas\n",
    "    - 5.4 Breaking Free: Analysis of Inmates Attempting Multiple Helicopter Prison Escapes\n",
    "- Successful Jailbreak Rates\n",
    "  - 6. Breakout Outcomes\n",
    "  - 7. Evaluating Helicopter Escape Success\n",
    "- Conclusion: Escaping the Impossible"
   ]
  },
  {
   "cell_type": "markdown",
   "metadata": {},
   "source": [
    "## Introduction: The Great Escape\n",
    "Welcome to my exploratory data analysis (EDA) project on prison breaks. My goal is to gain insights into the intriguing phenomenon of helicopter prison breaks by analyzing real-world data.\n",
    "\n",
    "In this project, I will focus on analyzing data related to helicopter prison breaks. I will be obtaining the data from [Wikipedia](https://en.wikipedia.org/wiki/List_of_helicopter_prison_escapes), which is a comprehensive source of information on this topic. It's important to note that the data may be subject to updates, and as such, my findings may differ from future analyses.\n",
    "\n",
    "By conducting this analysis, I hope to not only uncover interesting patterns and trends but also hone my skills in data preparation and analysis using Python. This project serves as my first portfolio piece in Jupyter Notebook, which allows me to showcase my code and effectively communicate my findings.\n",
    "\n",
    "During my exploratory data analysis, I will seek to answer some crucial questions regarding helicopter prison breaks. Specifically, I will examine which year had the highest number of attempted helicopter prison breaks and which countries experienced the most attempts. Additionally, I will investigate whether certain inmates tried to escape more than once and determine what percentage of them successfully escaped. By answering these questions, I hope to gain deeper insights into this fascinating phenomenon and develop a comprehensive understanding of the data.\n",
    "\n",
    "Please join me on this exciting journey as I dive into the data and uncover new insights."
   ]
  },
  {
   "cell_type": "markdown",
   "metadata": {},
   "source": [
    "## Data Collection and Preparation\n",
    "### 1. Data Collection, Challenges and Limitations\n",
    "The data was collected from the \"List of helicopter prison escapes\" page on [Wikipedia](https://en.wikipedia.org/wiki/List_of_helicopter_prison_escapes) and the format of the data is in tabular form. The dataset consists of 48 rows and 6 columns, with all columns having object data types. However, the 'Escapee(s)' column contains missing values which we will be filling with NaN values to maintain the integrity of our analysis.\n",
    "\n",
    "It is important to note that there may be potential biases and limitations associated with the data used. For example, there may be underreporting of incidents, particularly in countries where the media is tightly controlled or where access to information is limited. Additionally, the accuracy and completeness of the data may be affected by the quality of the sources used to compile the information. It is possible that some incidents were incorrectly reported or categorized, which could impact the overall analysis. Therefore, these factors should be taken into consideration when interpreting the results of our analysis."
   ]
  },
  {
   "cell_type": "markdown",
   "metadata": {},
   "source": [
    "### 2. Preparing Data for Analysis: Python Implementation\n",
    "#### 2.1 Python Libraries:\n",
    "With the project and dataset introduced, it is time to delve into the code that will power our analysis.\n",
    "\n",
    "To manipulate, visualize, and analyze the data, we will leverage several widely-used Python libraries. Below is a brief rundown of the libraries that will be instrumental in our analysis:\n",
    "\n",
    "- requests: We'll be using the requests library to make HTTP requests and download the data from the Wikipedia page.\n",
    "- BeautifulSoup: We'll use BeautifulSoup to parse the HTML code of the Wikipedia page and extract the relevant data.\n",
    "- datetime: The datetime module will help us work with the dates in our dataset.\n",
    "- pandas: A widely used library for data manipulation, analysis, and cleaning. It offers powerful data structures, efficient handling and processing of complex datasets, and user-friendly interface.\n",
    "- matplotlib: The matplotlib library is a powerful tool for creating visualizations. We'll be using it to create various charts and graphs to help us visualize the data.\n",
    "- matplotlib.pyplot: The pyplot sublibrary of matplotlib provides an easy-to-use interface for creating charts and graphs.\n",
    "- %matplotlib inline: This magic command is used to display the plots within the Jupyter Notebook itself rather than in a separate window or file.\n",
    "- matplotlib.colors: We'll be using this module to customize the colors of our plots.\n",
    "- PrettyTable: We'll use this library to create formatted tables for presenting our findings.\n",
    "- defaultdict: This subclass of the built-in dictionary in Python will help us to efficiently count the occurrences of certain values in our data.\n",
    "- re: The re module provides support for regular expressions, which will be useful for parsing some of the data in our dataset.\n",
    "- unicodedata: We'll be using the unicodedata module to normalize the characters in our dataset.\n",
    "- numpy: This library is widely used for numerical computing, data manipulation, and analysis. We'll use it to perform various statistical calculations on our dataset.\n",
    "\n",
    "By using these libraries, we will efficiently clean, manipulate, and analyze the data in our dataset. Let's get started!"
   ]
  },
  {
   "cell_type": "code",
   "execution_count": 1,
   "metadata": {},
   "outputs": [],
   "source": [
    "import requests\n",
    "from bs4 import BeautifulSoup\n",
    "from datetime import datetime\n",
    "import matplotlib as mpl, matplotlib.pyplot as plt, matplotlib.colors as mcolors\n",
    "%matplotlib inline\n",
    "from prettytable import PrettyTable\n",
    "from collections import defaultdict\n",
    "import re\n",
    "import pandas as pd\n",
    "import unicodedata\n",
    "import numpy as np"
   ]
  },
  {
   "cell_type": "markdown",
   "metadata": {},
   "source": [
    "#### 2.2 Extract Data and convert it into Pandas DataFrame:\n",
    "After importing the necessary libraries for the analysis, the extracted data needs to be converted into a more convenient format. A Pandas DataFrame can be used to achieve this, as it is a powerful tool for data manipulation and analysis.\n",
    "\n",
    "The DataFrame can be created by passing the extracted data and header row as arguments to the pd.DataFrame() function. This allows for labeling of the columns of the DataFrame with appropriate headers, making it easier to work with and analyze.\n",
    "\n",
    "To gain an initial understanding of the dataset's structure and content, it's useful to take a quick look at the data before creating the DataFrame. Printing the first three rows of the extracted data and the header row provides this initial glimpse into the dataset."
   ]
  },
  {
   "cell_type": "code",
   "execution_count": 2,
   "metadata": {},
   "outputs": [
    {
     "name": "stdout",
     "output_type": "stream",
     "text": [
      "Header:\n",
      "['Date', 'Prison name', 'Country', 'Succeeded', 'Escapee(s)', 'Details'] \n",
      "\n",
      "First 3 rows of Data:\n",
      "['August 19, 1971', 'Santa Martha Acatitla', 'Mexico', 'Yes', 'Joel David Kaplan\\nCarlos Antonio Contreras Castro', \"Joel David Kaplan was a New York businessman who had been arrested for murder in 1962 in Mexico City and was incarcerated at the Santa Martha Acatitla prison in the Iztapalapa borough of Mexico City.  Joel's sister, Judy Kaplan, arranged the means to help Kaplan escape, and on August 19, 1971, a helicopter landed in the prison yard. The guards mistakenly thought this was an official visit. In two minutes, Kaplan and his cellmate Carlos Antonio Contreras, a Venezuelan counterfeiter, were able to board the craft and were piloted away, before any shots were fired.[9] Both men were flown to Texas and then different planes flew Kaplan to California and Contreras to Guatemala.[3]  The Mexican government never initiated extradition proceedings against Kaplan.[9] The escape is told in a book, The 10-Second Jailbreak: The Helicopter Escape of Joel David Kaplan.[4] It also inspired the 1975 action movie Breakout, which starred Charles Bronson and Robert Duvall.[9]\"]\n",
      "['October 31, 1973', 'Mountjoy Jail', 'Ireland', 'Yes', \"JB O'Hagan\\nSeamus TwomeyKevin Mallon\", 'On October 31, 1973, an IRA member hijacked a helicopter and forced the pilot to land in the exercise yard of Dublin\\'s Mountjoy Jail\\'s D Wing at 3:40\\xa0p.m., October 31, 1973. Three members of the IRA were able to escape: JB O\\'Hagan, Seamus Twomey and Kevin Mallon. Another prisoner who also was in the prison was quoted as saying, \"One shamefaced screw apologised to the governor and said he thought it was the new Minister for Defence (Paddy Donegan) arriving. I told him it was our Minister of Defence leaving.\"\\nThe Mountjoy helicopter escape became Republican lore and was immortalized by \"The Helicopter Song\", which contains the lines \"It\\'s up like a bird and over the city. There\\'s three men a\\'missing I heard the warder say\".[1]']\n",
      "['May 24, 1978', 'United States Penitentiary, Marion', 'United States', 'No', 'Garrett Brock TrapnellMartin Joseph McNallyJames Kenneth Johnson', \"43-year-old Barbara Ann Oswald hijacked a Saint Louis-based charter helicopter and forced the pilot to land in the yard at USP Marion. While landing the aircraft, the pilot, Allen Barklage, who was a Vietnam War veteran, struggled with Oswald and managed to wrestle the gun away from her. Barklage then shot and killed Oswald, thwarting the escape.[10] A few months later Oswald's daughter hijacked TWA Flight 541 in an effort to free Trapnell.\"]\n"
     ]
    }
   ],
   "source": [
    "url = \"https://en.wikipedia.org/wiki/List_of_helicopter_prison_escapes\"\n",
    "\n",
    "# Download the web page data\n",
    "response = requests.get(url)\n",
    "html = response.content\n",
    "\n",
    "# Parse the HTML code using BeautifulSoup\n",
    "soup = BeautifulSoup(html, \"html.parser\")\n",
    "\n",
    "# Find all table elements on the page\n",
    "tables = soup.find_all(\"table\")\n",
    "\n",
    "# Loop through each table and find the one with the desired header row\n",
    "desired_table = None\n",
    "header_row = None\n",
    "rows = None\n",
    "\n",
    "for table in tables:\n",
    "    rows = table.find_all(\"tr\")\n",
    "    header_row = [cell.text.strip() for cell in rows[0].find_all(\"th\")]\n",
    "    if \"Date\" in header_row and \"Prison name\" in header_row:\n",
    "        desired_table = table\n",
    "        break\n",
    "\n",
    "# Extract the data rows\n",
    "data = []\n",
    "for row in rows[1:]:\n",
    "    cells = row.find_all(\"td\")\n",
    "    row_data = [cell.text.strip() for cell in cells]\n",
    "    data.append(row_data)\n",
    "\n",
    "# Print the header row and first 3 rows of data\n",
    "print(\"Header:\")\n",
    "print(header_row, \"\\n\")\n",
    "print(\"First 3 rows of Data:\")\n",
    "for row in data[:3]:\n",
    "    print(row)\n",
    "\n",
    "# Convert the data into a pandas DataFrame\n",
    "df = pd.DataFrame(data, columns=header_row)"
   ]
  },
  {
   "cell_type": "markdown",
   "metadata": {},
   "source": [
    "#### 2.3 Removing Redundant Columns:\n",
    "To simplify our analysis and focus on relevant features, we removed the 'details' column. It contained redundant information and could introduce noise. By removing this column, the data can be more easily and accurately analyzed, and insights that are more directly applicable to the project's goals can be gained."
   ]
  },
  {
   "cell_type": "code",
   "execution_count": 3,
   "metadata": {},
   "outputs": [
    {
     "name": "stdout",
     "output_type": "stream",
     "text": [
      "               Date                    Prison name        Country Succeeded  \\\n",
      "0   August 19, 1971          Santa Martha Acatitla         Mexico       Yes   \n",
      "1  October 31, 1973                  Mountjoy Jail        Ireland       Yes   \n",
      "2      May 24, 1978  United States Penitentiary...  United States        No   \n",
      "\n",
      "                      Escapee(s)  \n",
      "0  Joel David Kaplan\\nCarlos ...  \n",
      "1  JB O'Hagan\\nSeamus TwomeyK...  \n",
      "2  Garrett Brock TrapnellMart...  \n"
     ]
    }
   ],
   "source": [
    "# Remove the \"Details\" column\n",
    "df = df.drop(\"Details\", axis=1)\n",
    "\n",
    "# To enhance readability, set the maximum column width to 30 characters.\n",
    "pd.set_option('display.max_colwidth', 30)\n",
    "\n",
    "print(df[:3])"
   ]
  },
  {
   "cell_type": "markdown",
   "metadata": {},
   "source": [
    "## Analyzing Helicopter Escape Attempts\n",
    "### 3. Examining Helicopter Escape Attempts by Year"
   ]
  },
  {
   "cell_type": "markdown",
   "metadata": {},
   "source": [
    "#### 3.1 Extracting Year from Data:\n",
    "Now, we can move on to analyzing the frequency of escape attempts over time. To achieve this, we first need to extract the year from the 'Date' column. We used the 'pd.to_datetime' function from the Pandas library to convert this column to a datetime format and then extracted the year using the 'dt.year' attribute. The resulting dataframe displays the first three rows with the modified 'Date' column, showing only the year."
   ]
  },
  {
   "cell_type": "code",
   "execution_count": 4,
   "metadata": {},
   "outputs": [
    {
     "name": "stdout",
     "output_type": "stream",
     "text": [
      "   Date                    Prison name        Country Succeeded  \\\n",
      "0  1971          Santa Martha Acatitla         Mexico       Yes   \n",
      "1  1973                  Mountjoy Jail        Ireland       Yes   \n",
      "2  1978  United States Penitentiary...  United States        No   \n",
      "\n",
      "                      Escapee(s)  \n",
      "0  Joel David Kaplan\\nCarlos ...  \n",
      "1  JB O'Hagan\\nSeamus TwomeyK...  \n",
      "2  Garrett Brock TrapnellMart...  \n"
     ]
    }
   ],
   "source": [
    "# Convert the Date column to a datetime format and extract the year\n",
    "df['Date'] = pd.to_datetime(df['Date'])\n",
    "df['Date'] = df['Date'].dt.year\n",
    "\n",
    "# Display the first three rows with the modified 'Date' column\n",
    "print(df[:3])"
   ]
  },
  {
   "cell_type": "markdown",
   "metadata": {},
   "source": [
    "#### 3.2 Frequency of escapes:\n",
    "Here, our goal is to determine the frequency of helicopter escape attempts over time. To accomplish this, we created a frequency table by grouping the data by year and counting the occurrences. We then sorted the data by year to make it easier to identify trends. Our next step was to identify the years with the highest number of escape attempts by using the max() function and applying Boolean indexing to select the corresponding rows. The resulting output provides us with the years that saw the highest number of attempts."
   ]
  },
  {
   "cell_type": "code",
   "execution_count": 5,
   "metadata": {},
   "outputs": [
    {
     "name": "stdout",
     "output_type": "stream",
     "text": [
      "Date\n",
      "1971    1\n",
      "1973    1\n",
      "1978    1\n",
      "1981    2\n",
      "1983    1\n",
      "1985    2\n",
      "1986    3\n",
      "1987    1\n",
      "1988    1\n",
      "1989    2\n",
      "1990    1\n",
      "1991    1\n",
      "1992    2\n",
      "1993    1\n",
      "1996    1\n",
      "1997    1\n",
      "1999    1\n",
      "2000    2\n",
      "2001    3\n",
      "2002    2\n",
      "2003    1\n",
      "2005    2\n",
      "2006    1\n",
      "2007    3\n",
      "2009    3\n",
      "2010    1\n",
      "2012    1\n",
      "2013    2\n",
      "2014    1\n",
      "2016    1\n",
      "2018    1\n",
      "2020    1\n",
      "dtype: int64\n",
      "\n",
      "The years with the highest number of helicopter escapes are: 1986, 2001, 2007, 2009.\n"
     ]
    }
   ],
   "source": [
    "# Group the data by year and count the number of occurrences\n",
    "freq_table = df.groupby('Date').size()\n",
    "\n",
    "# Sort the table by year in ascending order\n",
    "freq_table = freq_table.sort_index()\n",
    "\n",
    "# Print the frequency table\n",
    "print(freq_table)\n",
    "\n",
    "# Code to identify the years with the highest number of helicopter escapes\n",
    "max_value = freq_table.max()\n",
    "max_years = freq_table[freq_table == max_value].index\n",
    "max_years_str = \", \".join(str(year) for year in max_years)\n",
    "print(f\"\\nThe years with the highest number of helicopter escapes are: {max_years_str}.\")"
   ]
  },
  {
   "cell_type": "markdown",
   "metadata": {},
   "source": [
    "#### 3.3 Visualizing Attempts by Year:\n",
    "After obtaining the frequency table of helicopter escapes per year, visualizing the data on a graph can enhance our understanding of the trends. To create a bar plot, we converted the year values to strings and excluded years with no escape attempts.\n",
    "\n",
    "The resulting bar plot displays the number of helicopter escape attempts each year. By examining the heights of the bars, we can quickly identify the years with the highest number of helicopter escapes. To improve the clarity of the plot, we added some stylistic elements, such as removing the spines, setting the tick colors to grey, and including a dotted line at the 2-attempt mark."
   ]
  },
  {
   "cell_type": "code",
   "execution_count": 6,
   "metadata": {},
   "outputs": [
    {
     "data": {
      "image/png": "[encoded data removed]",
      "text/plain": [
       "<Figure size 800x1000 with 1 Axes>"
      ]
     },
     "metadata": {},
     "output_type": "display_data"
    }
   ],
   "source": [
    "# Convert year values to string to exclude empty years from the plot\n",
    "years = freq_table.index.astype(str)\n",
    "\n",
    "# Get the values of the frequency table\n",
    "attempts = freq_table.values\n",
    "\n",
    "# Create a horizontal bar plot\n",
    "plt.figure(figsize=(8, 10))\n",
    "colors = ['#89CFF0' if x == 1 else '#0070BB' if x == 2 else '#003262' \n",
    "         for x in attempts]\n",
    "plt.barh(years, attempts, color=colors)\n",
    "plt.title(\"Number of Helicopter Attempts by Year\")\n",
    "plt.xlabel(\"Attempts\")\n",
    "plt.ylabel(\"Years\")\n",
    "\n",
    "# Style the plot\n",
    "plt.xticks(attempts, color='grey')\n",
    "plt.yticks(years, color='grey')\n",
    "for spine in ['top', 'right', 'left', 'bottom']:\n",
    "    plt.gca().spines[spine].set_visible(False)\n",
    "plt.tick_params(axis='both', which='both', length=0)\n",
    "for x in [2]:\n",
    "    plt.axvline(x=x, linestyle=':', color='#F0F8FF', ymin=0.03, ymax=0.96)\n",
    "\n",
    "plt.show()"
   ]
  },
  {
   "cell_type": "markdown",
   "metadata": {},
   "source": [
    "#### 3.4 Observations on the Data:\n",
    "The graph of helicopter prison escape attempts does not reveal any discernible patterns or trends. It is possible that the randomness of the data could be due to a lack of information or the presence of multiple contributing factors that are difficult to measure."
   ]
  },
  {
   "cell_type": "markdown",
   "metadata": {},
   "source": [
    "### 4. Examining Helicopter Escape Attempts by Country\n",
    "#### 4.1 Top countries for prison escapes:\n",
    "In this section, we aim to gain insights into the geographic distribution of helicopter escape attempts. To do so, we created a frequency table that counts the number of attempts per country using the country data from the original dataset. We used the PrettyTable library to present the data in a clear and organized manner. The table is sorted in descending order, displaying the number of attempts for each country. "
   ]
  },
  {
   "cell_type": "code",
   "execution_count": 7,
   "metadata": {},
   "outputs": [
    {
     "name": "stdout",
     "output_type": "stream",
     "text": [
      "+................+..........+\n",
      "|    Country     | Attempts |\n",
      "+................+..........+\n",
      "|     France     |    15    |\n",
      "| United States  |    8     |\n",
      "|     Canada     |    4     |\n",
      "|     Greece     |    4     |\n",
      "|    Belgium     |    4     |\n",
      "|   Australia    |    2     |\n",
      "|     Brazil     |    2     |\n",
      "| United Kingdom |    2     |\n",
      "|     Mexico     |    1     |\n",
      "|    Ireland     |    1     |\n",
      "|     Italy      |    1     |\n",
      "|  Puerto Rico   |    1     |\n",
      "|     Chile      |    1     |\n",
      "|  Netherlands   |    1     |\n",
      "|     Russia     |    1     |\n",
      "+................+..........+\n"
     ]
    }
   ],
   "source": [
    "# Creating a PrettyTable\n",
    "table = PrettyTable()\n",
    "table.field_names = [\"Country\", \"Attempts\"]\n",
    "table.horizontal_char = \".\"  # set the horizontal border character to \"-\"\n",
    "table.vertical_char = \"|\"  # set the vertical border character to \"|\"\n",
    "table.junction_char = \"+\"  # set the corner character to \"+\"\n",
    "\n",
    "# Create a dictionary that returns a default value of 0 for any nonexistent key\n",
    "countries = defaultdict(int)\n",
    "\n",
    "# Creating a frequency table\n",
    "for attempt in data:\n",
    "    country = attempt[2]\n",
    "    countries[country] += 1\n",
    "\n",
    "# Sorting countries in descending order by the number of attempts\n",
    "sorted_countries = sorted(countries.items(), key=lambda x: x[1], reverse=True)\n",
    "\n",
    "for country, attempts in sorted_countries:\n",
    "    table.add_row([country, attempts])\n",
    "\n",
    "print(table)"
   ]
  },
  {
   "cell_type": "markdown",
   "metadata": {},
   "source": [
    "#### 4.2 Visualizing Attempts by Country:\n",
    "We created a bar plot to provide a more intuitive visualization of the data. We will also delve into the countries where these attempts took place to uncover any potential patterns or trends."
   ]
  },
  {
   "cell_type": "code",
   "execution_count": 8,
   "metadata": {},
   "outputs": [
    {
     "data": {
      "image/png": "[encoded data removed]",
      "text/plain": [
       "<Figure size 600x400 with 1 Axes>"
      ]
     },
     "metadata": {},
     "output_type": "display_data"
    }
   ],
   "source": [
    "# Group the data by Country and count the number of occurrences\n",
    "freq_country = df.groupby('Country').size().sort_values(ascending=False)\n",
    "\n",
    "country = freq_country.index.astype(str)\n",
    "attempts_per_country = freq_country.values\n",
    "\n",
    "# Define the start and end red colors of the gradient\n",
    "start_color = mcolors.CSS4_COLORS['red']\n",
    "end_color = mcolors.CSS4_COLORS['pink']\n",
    "\n",
    "# Define the number of colors in the gradient (same as the number of x-axis values)\n",
    "num_colors = len(attempts_per_country)\n",
    "\n",
    "# Create the gradient of colors\n",
    "colors = mpl.colors.LinearSegmentedColormap.from_list(\"\", [start_color, end_color], num_colors)\n",
    "\n",
    "# Plotting the bars\n",
    "plt.barh(country, attempts_per_country, color=colors(range(num_colors)))\n",
    "plt.title(\"Helicopter Escape Attempts by Country\")\n",
    "plt.xlabel(\"Attempts\")\n",
    "plt.ylabel(\"Country\")\n",
    "plt.xticks(attempts_per_country, color='grey')\n",
    "plt.yticks(country, color='grey')\n",
    "for spine in ['top', 'right', 'left', 'bottom']:\n",
    "    plt.gca().spines[spine].set_visible(False)\n",
    "plt.tick_params(axis='both', which='both', length=0)\n",
    "\n",
    "plt.show()"
   ]
  },
  {
   "cell_type": "markdown",
   "metadata": {},
   "source": [
    "#### 4.3 Around the World:\n",
    "Helicopter prison breaks are a fascinating and alarming phenomenon that have occurred in various regions of the world, including Europe, South America, Central America, North America, and Eastern Europe (specifically, Russia). Surprisingly, there have been no reported incidents of such daring escapes in Africa, Asia, or the Middle East. While the reasons behind this are not yet clear, it is possible that media restrictions or limitations on information sharing in these areas have played a role.\n",
    "\n",
    "Digging deeper into the data, we can see that France takes the lead with a whopping 15 helicopter prison escapes - more than twice as many as the second-place country, the United States, which had 8 attempts. The reasons for this trend require further investigation and could be related to unique aspects of France's prison system or security measures. Greece, Canada, and Belgium followed closely behind with 4 attempts each, while the United Kingdom, Brazil, and Australia had 2 attempts. Finally, there were single attempts in Russia, Puerto Rico, Netherlands, Mexico, Italy, Ireland, and Chile.\n",
    "\n",
    "These findings highlight the need for prison officials worldwide to remain vigilant and address potential security risks. By doing so, we can prevent future incidents of daring helicopter prison breaks that could put the public at risk and undermine the integrity of our justice systems."
   ]
  },
  {
   "cell_type": "markdown",
   "metadata": {},
   "source": [
    "### 5. The Audacity of Inmates\n",
    "#### 5.1 The Escape Artists:\n",
    "Our focus is now on the elusive individuals who attempted helicopter prison escapes, particularly those who did it multiple times. But first, we ensure our data is clean by scrubbing it with meticulous attention to detail. We remove any hindering characters and standardize names, replacing empty strings with NaN. Despite our efforts, some rows require manual attention, and we check and double-check each record to ensure accuracy. Now armed with trustworthy data, we embark on our investigation into these audacious escapees, uncovering their stories of risking it all for freedom.\n"
   ]
  },
  {
   "cell_type": "code",
   "execution_count": 9,
   "metadata": {
    "scrolled": true
   },
   "outputs": [
    {
     "name": "stdout",
     "output_type": "stream",
     "text": [
      "List of Escapees:\n",
      "\n",
      "0                          Joel David Kaplan, Carlos Antonio Contreras Castro\n",
      "1                                     JB O'Hagan, Seamus Twomey, Kevin Mallon\n",
      "2        Garrett Brock Trapnell, Martin Joseph McNally, James Kenneth Johnson\n",
      "3                                               Gerard Dupre, Daniel Beaumont\n",
      "4                       Marina Paquet (hijacker), Giles Arseneault (prisoner)\n",
      "5                                                              David McMillan\n",
      "6             James Rodney Leonard, William Douglas Ballew, Jesse Glenn Smith\n",
      "7                             Jose Carlos dos Reis Encina, a.k.a. \"Escadinha\"\n",
      "8                                                              Michel Vaujour\n",
      "9                                                              Samantha Lopez\n",
      "10                    Andre Bellaiche, Gianluigi Esposito, Luciano  Cipollari\n",
      "11                                                Sydney Draper, John Kendall\n",
      "12                              Mahoney Danny, Francis Mitchell, Randy Lackey\n",
      "13                                                                 Ben Kramer\n",
      "14                                              Ralph Brown, Freddie Gonzales\n",
      "15                                                  Robert Ford, David Thomas\n",
      "16                                                               William Lane\n",
      "17                                                                        NaN\n",
      "18                                                                        NaN\n",
      "19                                                             Michel Vaujour\n",
      "20                       Four members of the Manuel Rodriguez Patriotic Front\n",
      "21                                                                        NaN\n",
      "22                                                               John Killick\n",
      "23                                                            Steven Whitsett\n",
      "24                                                                        NaN\n",
      "25                                                               Pascal Payet\n",
      "26                 Abdelhamid Carnous, Emile Forma-Sari, Jean-Philippe Lecase\n",
      "27                                                                        NaN\n",
      "28                                                                        NaN\n",
      "29    Orlando Cartagena, Jose Rodriguez, Victor Diaz, Hector Diaz, Jose Tapia\n",
      "30                               Eric Alboreo, Franck Perletto, Michel Valero\n",
      "31                                                                        NaN\n",
      "32                        Hubert Selles, Jean-Claude Moretti, Mohamed Bessame\n",
      "33                                                       Vassilis Paleokostas\n",
      "34                                                             Eric Ferdinand\n",
      "35                                                               Pascal Payet\n",
      "36                                                            Nordin Benallal\n",
      "37                                          Vassilis Paleokostas, Alket Rizai\n",
      "38                                               Alexin Jismy, Fabrice Michel\n",
      "39                                 Ashraf  Sekkaki plus three other criminals\n",
      "40                                                             Brian Lawrence\n",
      "41                                                           Alexey Shestakov\n",
      "42                                                         Panagiotis Vlastos\n",
      "43                                    Benjamin Hudon-Barbeau, Danny Provencal\n",
      "44                                Yves Denis, Denis Lefebvre, Serge Pomerleau\n",
      "45                                                 Pola Roupa, Nikos Maziotis\n",
      "46                                                               Redoine Faid\n",
      "47                                                                 Kristel A.\n",
      "Name: Escapee(s), dtype: object\n"
     ]
    }
   ],
   "source": [
    "pd.set_option('display.max_colwidth', 80)\n",
    "\n",
    "# Replace '\\n' and '—' characters with a space\n",
    "df['Escapee(s)'] = df['Escapee(s)'].str.replace('\\n', ', ')\n",
    "df['Escapee(s)'] = df['Escapee(s)'].str.replace('—', ' ')\n",
    "\n",
    "# Add spaces between names\n",
    "df['Escapee(s)'] = df['Escapee(s)'].apply(lambda x: unicodedata.normalize('NFKD', x).\n",
    "                                          encode('ASCII', 'ignore').decode('utf-8'))\n",
    "df['Escapee(s)'] = df['Escapee(s)'].apply(lambda x: re.\n",
    "                                          sub(r'(?<!Mc)(?<!Mc )(?<=[a-z\\)])(?=[A-Z])', ', ', x))\n",
    "\n",
    "# Remove empty strings from the 'Escapee(s)' column and replace with NaN\n",
    "df['Escapee(s)'] = df['Escapee(s)'].str.strip().replace('', np.nan)\n",
    "\n",
    "# Manually updating rows 12, 29 and 37\n",
    "df.loc[12, 'Escapee(s)'] = 'Mahoney Danny, Francis Mitchell, Randy Lackey'\n",
    "df.loc[29, 'Escapee(s)'] = 'Orlando Cartagena, Jose Rodriguez, Victor Diaz, Hector Diaz, Jose Tapia'\n",
    "df.loc[37, 'Escapee(s)'] = 'Vassilis Paleokostas, Alket Rizai'\n",
    "\n",
    "print(\"List of Escapees:\\n\")\n",
    "print(df['Escapee(s)'])"
   ]
  },
  {
   "cell_type": "markdown",
   "metadata": {},
   "source": [
    "#### 5.2 The Persistent Escapers:\n",
    "In this data analysis project, we investigated helicopter prison breaks and identified recurrent escapees. To do so, we parsed through a dataset of escapees and checked for duplicate names in the 'Escapee(s)' column."
   ]
  },
  {
   "cell_type": "code",
   "execution_count": 10,
   "metadata": {},
   "outputs": [
    {
     "name": "stdout",
     "output_type": "stream",
     "text": [
      "Recurrent escapees:\n",
      "- Vassilis Paleokostas\n",
      "- Michel Vaujour\n",
      "- Pascal Payet\n"
     ]
    }
   ],
   "source": [
    "# create a set to store the duplicated names\n",
    "repeated_escapees = set()\n",
    "\n",
    "# loop through each cell in the 'Escapee(s)' column\n",
    "for i, cell1 in enumerate(df['Escapee(s)']):\n",
    "    # if the cell has a 'nan' value, skip to the next one\n",
    "    if pd.isna(cell1):\n",
    "        continue\n",
    "    # loop through the remaining cells below the current one\n",
    "    for j, cell2 in enumerate(df['Escapee(s)'][i+1:], i+1):\n",
    "        if pd.isna(cell2):\n",
    "            continue\n",
    "        # split the current cell and the cell below it into lists of names\n",
    "        names1 = cell1.split(', ')\n",
    "        names2 = cell2.split(', ')\n",
    "        # loop through each name in the first cell\n",
    "        for name1 in names1:\n",
    "            # if the name appears in the second cell\n",
    "            if name1 in names2:\n",
    "                # check if there are multiple names in the first cell\n",
    "                if len(names1) > 1:\n",
    "                    # loop through each name in the second cell\n",
    "                    for name2 in names2:\n",
    "                        # if the name in the second cell matches the current name in the first cell\n",
    "                        if name1 == name2:\n",
    "                            # add the name and the next name in the first cell to the set\n",
    "                            repeated_escapees.add(name1 + \" \" + names1[names1.index(name1)+1])\n",
    "                            break\n",
    "                else:\n",
    "                    # add the name to the set\n",
    "                    repeated_escapees.add(name1)\n",
    "\n",
    "# print the set of duplicated names, if any\n",
    "if repeated_escapees:\n",
    "    print(\"Recurrent escapees:\")\n",
    "    for name in repeated_escapees:\n",
    "        print(f\"- {name}\")\n",
    "else:\n",
    "    print(\"No duplicated names found.\")"
   ]
  },
  {
   "cell_type": "markdown",
   "metadata": {},
   "source": [
    "#### 5.3 The Extraordinary Feats of Pascal Payet, Michel Vaujour, and Vassilis Paleokostas:\n",
    "In the world of prisons, inmates have always sought ways to escape the monotony and isolation of their cells. Some use ingenious techniques like digging tunnels, forging fake identities, or even bribing guards. But there are some inmates who go beyond conventional means, daring to attempt the impossible: breaking out of prison by helicopter. These daring individuals are the subject of our latest analysis.\n",
    "\n",
    "As we venture more into our investigation, we uncover a remarkable trend that challenges all expectations. Three inmates - Pascal Payet, Michel Vaujour, and Vassilis Paleokostas - attempted not one, but two helicopter escapes. It takes an extraordinary level of determination and audacity to try such a feat multiple times, and we can't help but wonder what compelled them to take such risks.\n",
    "\n",
    "But the question remains: did they manage to pull it off? Our analysis will uncover whether these daring inmates managed to outsmart the authorities and achieve their freedom, or if they were caught and returned to their cells. We will also dive into the specifics of when and where these daring attempts were made, piecing together the events that led to these audacious prison breaks.\n",
    "\n",
    "So join us on a journey of discovery, as we unravel the stories of these inmates who risked everything for their freedom, and the authorities who were determined to bring them back to justice."
   ]
  },
  {
   "cell_type": "code",
   "execution_count": 11,
   "metadata": {},
   "outputs": [
    {
     "name": "stdout",
     "output_type": "stream",
     "text": [
      "The Unstoppable: Recurrent Escapees\n",
      "                Escapee(s) Succeeded             Prison name  Date Country\n",
      "8           Michel Vaujour       Yes      Prison de la Santé  1986  France\n",
      "19          Michel Vaujour        No  Touraine Central Pr...  1993  France\n",
      "25            Pascal Payet       Yes           Luynes prison  2001  France\n",
      "33    Vassilis Paleokostas       Yes       Korydallos Prison  2006  Greece\n",
      "35            Pascal Payet       Yes           Grasse prison  2007  France\n",
      "37  Vassilis Paleokosta...       Yes       Korydallos Prison  2009  Greece\n"
     ]
    }
   ],
   "source": [
    "pd.set_option('display.max_colwidth', 23)\n",
    "\n",
    "# drop rows with NaN values in 'Escapee(s)' column and create a temporary copy of the dataframe\n",
    "temporary_df = df.dropna(subset=['Escapee(s)'], inplace=False)\n",
    "\n",
    "# define the desired column order\n",
    "column_order = ['Escapee(s)', 'Succeeded', 'Prison name', 'Date', 'Country']\n",
    "               \n",
    "# filter the dataframe to include only rows with duplicated names in the 'Escapee(s)' column\n",
    "duplicated_df = temporary_df[temporary_df['Escapee(s)'].str.contains('|'.join(repeated_escapees))]\n",
    "\n",
    "# reorder the columns of the filtered dataframe based on the defined order\n",
    "duplicated_df = duplicated_df.reindex(columns=column_order)\n",
    "\n",
    "# print the filtered dataframe with columns in the specified order\n",
    "print(\"The Unstoppable: Recurrent Escapees\")\n",
    "print(duplicated_df)\n"
   ]
  },
  {
   "cell_type": "markdown",
   "metadata": {},
   "source": [
    "#### 5.4 Breaking Free: Analysis of Inmates Attempting Multiple Helicopter Prison Escapes\n",
    "Helicopter prison breaks have long been a source of fascination and intrigue, capturing the imagination of both Hollywood filmmakers and real-life criminals. Through our data analysis project, we delved into the stories of inmates who attempted to escape from prison using a helicopter on multiple occasions.\n",
    "\n",
    "Our research uncovered three such cases, two of which occurred in France, and one in Greece. The first inmate was Michel Vaujour, who in 1986 successfully escaped from Prison de la Santé in France using a helicopter. However, his luck ran out in 1993 when he tried to escape from Touraine Central Prison but failed, and was eventually caught and transferred to a high-security prison.\n",
    "\n",
    "The second inmate, Pascal Payet, had a taste for high-flying escapes, and succeeded in two attempts. In 2001, he made his first escape from Luynes prison in France using a helicopter. Five years later, he escaped again, but this time from Grasse prison, also in France, again using a helicopter.\n",
    "\n",
    "The third and final inmate in our study was Vassilis Paleokostas, who also managed to pull off not just one, but two helicopter escapes from the same prison, Korydallos Prison in Greece. The first time was in 2006, and the second time he escaped with another inmate in 2009.\n",
    "\n",
    "These cases shed light on the persistent allure of helicopter escapes and their potential for success. They also demonstrate the lengths to which some criminals are willing to go to evade justice. Our findings offer valuable insights into the history and effectiveness of these daring prison breaks."
   ]
  },
  {
   "cell_type": "markdown",
   "metadata": {},
   "source": [
    "## Successful Jailbreak Rates\n",
    "### 6. Breakout Outcomes:\n",
    "When it comes to helicopter prison escapes, the ultimate goal is to successfully escape and avoid being caught. In this part of our analysis, we will examine the success rate of these fearless attempts.\n",
    "\n",
    "Our dataset includes a total of 48 helicopter prison breaks, but how many of them were successful? We will answer this question and provide insights into the factors that could influence the success or failure of a helicopter prison escape."
   ]
  },
  {
   "cell_type": "code",
   "execution_count": 12,
   "metadata": {},
   "outputs": [
    {
     "name": "stdout",
     "output_type": "stream",
     "text": [
      "Total: 48\n",
      "Success: 34\n",
      "Failure: 14 \n"
     ]
    }
   ],
   "source": [
    "# Create a frequency table with the 'Succeeded' column\n",
    "success = df['Succeeded'].value_counts()['Yes']\n",
    "failure = df['Succeeded'].value_counts()['No']\n",
    "\n",
    "total = success + failure\n",
    "\n",
    "success_percentage = success * total / 100\n",
    "failure_percentage = failure * total / 100\n",
    "\n",
    "print(f\"Total: {total}\\nSuccess: {success}\\nFailure: {failure} \")"
   ]
  },
  {
   "cell_type": "code",
   "execution_count": 13,
   "metadata": {},
   "outputs": [
    {
     "data": {
      "image/png": "[encoded data removed]",
      "text/plain": [
       "<Figure size 600x400 with 1 Axes>"
      ]
     },
     "metadata": {},
     "output_type": "display_data"
    }
   ],
   "source": [
    "# Create pie chart\n",
    "labels = ['Succeeded (34)','Failed (14)']\n",
    "sizes = [success_percentage, failure_percentage]\n",
    "colors = ['pink', '#89CFF0']\n",
    "explode = (0.1, 0)  # explode the first slice\n",
    "plt.pie(sizes, explode=explode, labels=labels, colors=colors, autopct='%1.1f%%', \n",
    "        startangle=30, textprops={'color': 'grey', 'fontsize': 12})\n",
    "plt.title('Prison Break Attempts')\n",
    "plt.show()"
   ]
  },
  {
   "cell_type": "markdown",
   "metadata": {},
   "source": [
    "### 7. Evaluating Helicopter Escape Success:\n",
    "In the shadowy world of prison escapes, few methods are as daring as using a helicopter to break free from captivity. Our analysis uncovered a total of 48 attempts, each one a heart-stopping gambit for freedom. Of these, 34 were successful, a testament to the audacity and resourcefulness of the escapees. But in 14 cases, the dream of freedom was shattered by the unforgiving reality of the prison system.\n",
    "\n",
    "These numbers offer a glimpse into the high stakes of a helicopter prison escape. The success rate of 71% shows that for those brave enough to try, this method can be a path to liberation. But the 29% failure rate also serves as a sobering reminder that even the boldest plans can falter in the face of overwhelming obstacles."
   ]
  },
  {
   "cell_type": "markdown",
   "metadata": {},
   "source": [
    "## Conclusion: Escaping the Impossible"
   ]
  },
  {
   "cell_type": "markdown",
   "metadata": {},
   "source": [
    "With the aim of unearthing patterns and trends, we embarked on a quest to prepare and analyze data related to helicopter prison escapes. We delved deep into the \"List of Helicopter Prison Escapes\" on Wikipedia, and the findings were nothing short of astounding.\n",
    "\n",
    "Out of a total of 48 attempts, 34 were successful, while only 14 prisoners were left stranded behind bars. Our analysis revealed that a small number of inmates had the audacity to attempt a second escape, with only one failing the second time around.\n",
    "\n",
    "Moreover, we uncovered a shocking revelation that France led the pack with an enormous 15 helicopter escapes, leaving the United States trailing behind in second place with just 8 escapes.\n",
    "\n",
    "Despite our best efforts, our data was limited, and as a result, we could not identify any significant trends. Nonetheless, this project serves as a reminder of the sheer audacity and determination of those willing to risk everything for freedom."
   ]
  }
 ],
 "metadata": {
  "kernelspec": {
   "display_name": "Python 3",
   "language": "python",
   "name": "python3"
  },
  "language_info": {
   "codemirror_mode": {
    "name": "ipython",
    "version": 3
   },
   "file_extension": ".py",
   "mimetype": "text/x-python",
   "name": "python",
   "nbconvert_exporter": "python",
   "pygments_lexer": "ipython3",
   "version": "3.8.2"
  }
 },
 "nbformat": 4,
 "nbformat_minor": 2
}
